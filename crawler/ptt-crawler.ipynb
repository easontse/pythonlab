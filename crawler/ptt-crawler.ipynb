{
 "cells": [
  {
   "cell_type": "code",
   "execution_count": 281,
   "metadata": {
    "collapsed": false
   },
   "outputs": [
    {
     "ename": "SyntaxError",
     "evalue": "invalid syntax (<ipython-input-281-914c6fccfa04>, line 26)",
     "output_type": "error",
     "traceback": [
      "\u001b[1;36m  File \u001b[1;32m\"<ipython-input-281-914c6fccfa04>\"\u001b[1;36m, line \u001b[1;32m26\u001b[0m\n\u001b[1;33m    print len(dataset)\u001b[0m\n\u001b[1;37m            ^\u001b[0m\n\u001b[1;31mSyntaxError\u001b[0m\u001b[1;31m:\u001b[0m invalid syntax\n"
     ]
    }
   ],
   "source": [
    "import requests\n",
    "from bs4 import BeautifulSoup\n",
    "\n",
    "def ifExist(pageStatus):\n",
    "    if pageStatus == 200:\n",
    "        return True    \n",
    "\n",
    "def genList():\n",
    "    for raw in soup.select('.title'):\n",
    "        title.append(str(raw.select('a')[0].string))\n",
    "    for raw in soup.select('.date'):\n",
    "        date.append(str(raw.string))\n",
    "    return list(zip(date,title))\n",
    "\n",
    "\n",
    "dataset, title, date = [] ,[] ,[]\n",
    "indexNum=1184\n",
    "while indexNum <= 1184:\n",
    "    url = 'https://www.ptt.cc/bbs/Yunlin/index' + str(indexNum) + '.html'\n",
    "    res = requests.get(url)\n",
    "    soup = BeautifulSoup(res.text)\n",
    "    print(res.url)\n",
    "    print(len(dataset))\n",
    "    if ifExist(res.status_code):\n",
    "        dataset=genList()\n",
    "        print len(dataset)\n",
    "    else:\n",
    "        print('XXXXXXXXXXXXXXXX')\n",
    "        print(indexNum)\n",
    "        break\n",
    "    indexNum+=1\n",
    "\n",
    "for item in dataset:\n",
    "    print(item)"
   ]
  },
  {
   "cell_type": "code",
   "execution_count": 199,
   "metadata": {
    "collapsed": false
   },
   "outputs": [
    {
     "name": "stdout",
     "output_type": "stream",
     "text": [
      "[]\n"
     ]
    }
   ],
   "source": [
    "print(c)"
   ]
  }
 ],
 "metadata": {
  "kernelspec": {
   "display_name": "Python 3",
   "language": "python",
   "name": "python3"
  },
  "language_info": {
   "codemirror_mode": {
    "name": "ipython",
    "version": 3
   },
   "file_extension": ".py",
   "mimetype": "text/x-python",
   "name": "python",
   "nbconvert_exporter": "python",
   "pygments_lexer": "ipython3",
   "version": "3.4.3"
  }
 },
 "nbformat": 4,
 "nbformat_minor": 0
}
