{
 "cells": [
  {
   "cell_type": "code",
   "execution_count": 111,
   "metadata": {
    "collapsed": false
   },
   "outputs": [
    {
     "name": "stdout",
     "output_type": "stream",
     "text": [
      "20151107224945 请你叫我高不帅 【高不帅系列】北汽幻速H2手动豪华型美图鉴赏，附最新用车报告！\n"
     ]
    }
   ],
   "source": [
    "import requests, datetime, time, csv\n",
    "from bs4 import BeautifulSoup\n",
    "\n",
    "index_url = 'http://club.autohome.com.cn/bbs/allforums-dateline-9-1.html'\n",
    "index_res = requests.get(index_url)\n",
    "index_soup = BeautifulSoup(index_res.text)\n",
    "\n",
    "def get_linklist(soup):\n",
    "    linklist = []\n",
    "    for i in soup.select('.list_dl'):\n",
    "        if 'href' in str(i.select('a')[0]):\n",
    "            linklist.append(i.select('a')[0]['href'])\n",
    "    return linklist\n",
    "\n",
    "thread_url = 'http://club.autohome.com.cn/bbs/thread-c-3661-46820757-1.html'\n",
    "thread_res = requests.get(thread_url)\n",
    "thread_soup = BeautifulSoup(thread_res.text)\n",
    "\n",
    "print(thread_soup.find_all('div', { 'class':'clearfix'})[0]['data-time'],\n",
    "     thread_soup.find_all('div', { 'class':'clearfix'})[0].a.string,\n",
    "     thread_soup.select('.maxtitle')[0].text)"
   ]
  },
  {
   "cell_type": "code",
   "execution_count": null,
   "metadata": {
    "collapsed": true
   },
   "outputs": [],
   "source": []
  }
 ],
 "metadata": {
  "kernelspec": {
   "display_name": "Python 3",
   "language": "python",
   "name": "python3"
  },
  "language_info": {
   "codemirror_mode": {
    "name": "ipython",
    "version": 3
   },
   "file_extension": ".py",
   "mimetype": "text/x-python",
   "name": "python",
   "nbconvert_exporter": "python",
   "pygments_lexer": "ipython3",
   "version": "3.4.3"
  }
 },
 "nbformat": 4,
 "nbformat_minor": 0
}
