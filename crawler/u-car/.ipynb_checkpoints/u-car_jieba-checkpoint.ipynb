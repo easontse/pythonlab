{
 "cells": [
  {
   "cell_type": "code",
   "execution_count": null,
   "metadata": {
    "collapsed": true
   },
   "outputs": [],
   "source": [
    "import csv\n",
    "from datetime import datetime\n",
    "\n",
    "def load_ucar():\n",
    "    \n",
    "    ucar_csv_reader = csv.reader(open('u-car.csv'))\n",
    "    \n",
    "    for row in ucar_csv_reader:\n",
    "        cur.execute('''insert into ucar values (\n",
    "            %s,\n",
    "            %s, \n",
    "            %s, \n",
    "            %s, \n",
    "            %s\n",
    "        )''', (\n",
    "            datetime.strptime(row[0], '%Y/%m/%d %H:%M:%S'),\n",
    "            # author\n",
    "            row[1],\n",
    "            # title\n",
    "            row[2],\n",
    "            # content\n",
    "            row[3],\n",
    "            # url\n",
    "            row[4]\n",
    "        ))\n",
    "\n",
    "if __name__ == '__main__':\n",
    "    load_ucar()\n"
   ]
  }
 ],
 "metadata": {
  "kernelspec": {
   "display_name": "Python 3",
   "language": "python",
   "name": "python3"
  },
  "language_info": {
   "codemirror_mode": {
    "name": "ipython",
    "version": 3
   },
   "file_extension": ".py",
   "mimetype": "text/x-python",
   "name": "python",
   "nbconvert_exporter": "python",
   "pygments_lexer": "ipython3",
   "version": "3.5.0+"
  }
 },
 "nbformat": 4,
 "nbformat_minor": 0
}
