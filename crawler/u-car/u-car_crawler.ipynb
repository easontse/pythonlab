{
 "cells": [
  {
   "cell_type": "code",
   "execution_count": 1,
   "metadata": {
    "collapsed": false,
    "scrolled": true
   },
   "outputs": [
    {
     "name": "stdout",
     "output_type": "stream",
     "text": [
      "retry after 2 sec...\n",
      "retry after 2 sec...\n",
      "retry after 2 sec...\n"
     ]
    },
    {
     "ename": "KeyboardInterrupt",
     "evalue": "",
     "output_type": "error",
     "traceback": [
      "\u001b[1;31m---------------------------------------------------------------------------\u001b[0m",
      "\u001b[1;31mNameError\u001b[0m                                 Traceback (most recent call last)",
      "\u001b[1;32m<ipython-input-1-51a39d20dbfd>\u001b[0m in \u001b[0;36m<module>\u001b[1;34m()\u001b[0m\n\u001b[0;32m     76\u001b[0m             \u001b[1;32mwith\u001b[0m \u001b[0mopen\u001b[0m\u001b[1;33m(\u001b[0m\u001b[1;34m'u-car.csv'\u001b[0m\u001b[1;33m,\u001b[0m \u001b[1;34m'a'\u001b[0m\u001b[1;33m,\u001b[0m \u001b[0mencoding\u001b[0m\u001b[1;33m=\u001b[0m\u001b[1;34m'utf-8'\u001b[0m\u001b[1;33m)\u001b[0m \u001b[1;32mas\u001b[0m \u001b[0mcsvfile\u001b[0m\u001b[1;33m:\u001b[0m\u001b[1;33m\u001b[0m\u001b[0m\n\u001b[1;32m---> 77\u001b[1;33m                 \u001b[1;32mfor\u001b[0m \u001b[0mdata\u001b[0m \u001b[1;32min\u001b[0m \u001b[0mcrawl_thread\u001b[0m\u001b[1;33m(\u001b[0m\u001b[0mlink\u001b[0m\u001b[1;33m)\u001b[0m\u001b[1;33m:\u001b[0m\u001b[1;33m\u001b[0m\u001b[0m\n\u001b[0m\u001b[0;32m     78\u001b[0m                     \u001b[0mprint\u001b[0m\u001b[1;33m(\u001b[0m\u001b[0mdata\u001b[0m\u001b[1;33m[\u001b[0m\u001b[1;36m0\u001b[0m\u001b[1;33m]\u001b[0m\u001b[1;33m,\u001b[0m\u001b[0mdata\u001b[0m\u001b[1;33m[\u001b[0m\u001b[1;36m1\u001b[0m\u001b[1;33m]\u001b[0m\u001b[1;33m,\u001b[0m\u001b[0mdata\u001b[0m\u001b[1;33m[\u001b[0m\u001b[1;36m2\u001b[0m\u001b[1;33m]\u001b[0m\u001b[1;33m,\u001b[0m\u001b[0mdata\u001b[0m\u001b[1;33m[\u001b[0m\u001b[1;36m3\u001b[0m\u001b[1;33m]\u001b[0m\u001b[1;33m,\u001b[0m\u001b[0mlink\u001b[0m\u001b[1;33m)\u001b[0m\u001b[1;33m\u001b[0m\u001b[0m\n",
      "\u001b[1;32m<ipython-input-1-51a39d20dbfd>\u001b[0m in \u001b[0;36mcrawl_thread\u001b[1;34m(link)\u001b[0m\n\u001b[0;32m     65\u001b[0m             \u001b[1;31m# title\u001b[0m\u001b[1;33m\u001b[0m\u001b[1;33m\u001b[0m\u001b[0m\n\u001b[1;32m---> 66\u001b[1;33m             \u001b[0mt1_soup\u001b[0m\u001b[1;33m.\u001b[0m\u001b[0mfind_all\u001b[0m\u001b[1;33m(\u001b[0m\u001b[1;34m\"div\"\u001b[0m\u001b[1;33m,\u001b[0m \u001b[1;33m{\u001b[0m \u001b[1;34m\"class\"\u001b[0m \u001b[1;33m:\u001b[0m \u001b[1;34m\"forumhead\"\u001b[0m \u001b[1;33m}\u001b[0m\u001b[1;33m)\u001b[0m\u001b[1;33m[\u001b[0m\u001b[1;36m0\u001b[0m\u001b[1;33m]\u001b[0m\u001b[1;33m.\u001b[0m\u001b[0mtext\u001b[0m\u001b[1;33m.\u001b[0m\u001b[0mstrip\u001b[0m\u001b[1;33m(\u001b[0m\u001b[1;33m)\u001b[0m\u001b[1;33m,\u001b[0m\u001b[1;33m\u001b[0m\u001b[0m\n\u001b[0m\u001b[0;32m     67\u001b[0m             \u001b[1;31m# content\u001b[0m\u001b[1;33m\u001b[0m\u001b[1;33m\u001b[0m\u001b[0m\n",
      "\u001b[1;31mNameError\u001b[0m: name 't1_soup' is not defined",
      "\nDuring handling of the above exception, another exception occurred:\n",
      "\u001b[1;31mKeyboardInterrupt\u001b[0m                         Traceback (most recent call last)",
      "\u001b[1;32m<ipython-input-1-51a39d20dbfd>\u001b[0m in \u001b[0;36m<module>\u001b[1;34m()\u001b[0m\n\u001b[0;32m     84\u001b[0m         \u001b[1;32mwhile\u001b[0m \u001b[0mRetryCounter\u001b[0m \u001b[1;33m<=\u001b[0m \u001b[1;36m3\u001b[0m\u001b[1;33m:\u001b[0m\u001b[1;33m\u001b[0m\u001b[0m\n\u001b[0;32m     85\u001b[0m             \u001b[0mprint\u001b[0m\u001b[1;33m(\u001b[0m\u001b[1;34m'retry after 2 sec...'\u001b[0m\u001b[1;33m)\u001b[0m\u001b[1;33m\u001b[0m\u001b[0m\n\u001b[1;32m---> 86\u001b[1;33m             \u001b[0mtime\u001b[0m\u001b[1;33m.\u001b[0m\u001b[0msleep\u001b[0m\u001b[1;33m(\u001b[0m\u001b[1;36m2\u001b[0m\u001b[1;33m)\u001b[0m\u001b[1;33m\u001b[0m\u001b[0m\n\u001b[0m\u001b[0;32m     87\u001b[0m         \u001b[1;32mbreak\u001b[0m\u001b[1;33m\u001b[0m\u001b[0m\n",
      "\u001b[1;31mKeyboardInterrupt\u001b[0m: "
     ]
    }
   ],
   "source": [
    "import requests, datetime, time, csv\n",
    "from bs4 import BeautifulSoup\n",
    "\n",
    "def get_soup(pageNum):\n",
    "    url = 'http://forum.u-car.com.tw/index.asp?page=' + str(pageNum) + '&category=19'\n",
    "    index_res = requests.get(url)\n",
    "    return BeautifulSoup(index_res.text)\n",
    "\n",
    "def get_linklist(soup):\n",
    "    link_list = []\n",
    "    for i in soup.select('a'):\n",
    "\n",
    "        if 'thread.asp' in i['href']:\n",
    "            link_list.append('http://forum.u-car.com.tw/' + i['href'])\n",
    "\n",
    "        counter = 0\n",
    "        while counter < len(link_list):\n",
    "            if len(link_list[counter]) == 51:\n",
    "                link_list[counter] += '&page=1'\n",
    "            counter += 1\n",
    "            \n",
    "    for i in set(link_list):\n",
    "        if len(i) == 59:\n",
    "            a = int(i[-2:])\n",
    "\n",
    "            while a > 4:\n",
    "                url = i[:57] + str(a)\n",
    "                if url not in link_list:\n",
    "                    link_list.append(url)\n",
    "                a -= 1\n",
    "\n",
    "        elif len(i) == 60:\n",
    "            a = int(i[-3:])\n",
    "\n",
    "            while a > 4:\n",
    "                url = i[:57] + str(a)\n",
    "                if url not in link_list:\n",
    "                    link_list.append(url)\n",
    "                a -= 1\n",
    "\n",
    "        elif len(i) == 58 and int(i[-1]) > 4:\n",
    "            a = int(i[-1:])\n",
    "\n",
    "            while a > 4:\n",
    "                url = i[:57] + str(a)\n",
    "                if url not in link_list:\n",
    "                    link_list.append(url)\n",
    "                a -= 1\n",
    "\n",
    "    return list(set(link_list))\n",
    "\n",
    "def crawl_thread(link):\n",
    "    thread_res = requests.get(link)\n",
    "    thread_res.encoding = 'utf-8'\n",
    "    thread_soup = BeautifulSoup(thread_res.text)\n",
    "    \n",
    "    \n",
    "    thread_data = []\n",
    "    for i in thread_soup.find_all(\"div\", { \"class\" : \"fd_cont\" }):\n",
    "        thread_data.append([\n",
    "            # date\n",
    "            i.find_all(\"div\", {\"class\":\"memberinfo_top_l\"})[0].text[:19].strip(),\n",
    "            # author\n",
    "            i.find_all(\"li\", {'class':'member_id'})[0].select('a')[0].string.strip(),\n",
    "            # title\n",
    "            thread_soup.find_all(\"div\", { \"class\" : \"forumhead\" })[0].text.strip(),\n",
    "            # content\n",
    "            i.find_all('div', {'class':'userwrite'})[0].text.strip()\n",
    "        ])\n",
    "    return thread_data\n",
    "\n",
    "pageNum = 1\n",
    "while True:\n",
    "    try:\n",
    "        for link in sorted(get_linklist(get_soup(pageNum))):\n",
    "            with open('u-car.csv', 'a', encoding='utf-8') as csvfile:\n",
    "                for data in crawl_thread(link):\n",
    "                    print(data[0],data[1],data[2],data[3],link)\n",
    "                    writer = csv.writer(csvfile, delimiter=',')\n",
    "                    writer.writerow([data[0],data[1],data[2],data[3],link])\n",
    "        pageNum += 1\n",
    "    except:\n",
    "        RetryCounter = 1\n",
    "        while RetryCounter <= 3:\n",
    "            print('retry after 2 sec...')\n",
    "            time.sleep(2)\n",
    "        break"
   ]
  },
  {
   "cell_type": "code",
   "execution_count": 1,
   "metadata": {
    "collapsed": false
   },
   "outputs": [
    {
     "name": "stdout",
     "output_type": "stream",
     "text": [
      "2015/07/13 11:45:26 firepro 好在沒等他,不然會買不起,只買的起Cayenne入門柴油D5 Momentum+為324萬元高階D5 Inscription是349萬元汽油版T6目前僅提供Inscription等級，售價372萬元\n"
     ]
    }
   ],
   "source": [
    "import requests, datetime, time, re\n",
    "import pandas as pd\n",
    "from bs4 import BeautifulSoup\n",
    "\n",
    "t1_url = 'http://forum.u-car.com.tw/thread.asp?forumid=285933&page=1'\n",
    "t1_res = requests.get(t1_url)\n",
    "t1_res.encoding = 'utf-8'\n",
    "t1_soup = BeautifulSoup(t1_res.text)\n",
    "\n",
    "for i in t1_soup.find_all(\"div\", { \"class\" : \"fd_box\" }):\n",
    "    print(\n",
    "        # date\n",
    "        i.find_all(\"div\", {\"class\":\"memberinfo_top_l\"})[0].text[:19],\n",
    "        # author\n",
    "        i.find_all(\"li\", {'class':'member_id'})[0].select('a')[0].string,\n",
    "        # content\n",
    "        i.find_all('div', {'class':'userwrite'})[0].text\n",
    "    )\n"
   ]
  },
  {
   "cell_type": "code",
   "execution_count": null,
   "metadata": {
    "collapsed": true
   },
   "outputs": [],
   "source": [
    "import requests, datetime, time, re\n",
    "import pandas as pd\n",
    "from bs4 import BeautifulSoup\n",
    "\n",
    "t1_url = 'http://forum.u-car.com.tw/thread.asp?forumid=285933&page=1'\n",
    "t1_res = requests.get(t1_url)\n",
    "t1_res.encoding = 'utf-8'\n",
    "t1_soup = BeautifulSoup(t1_res.text)\n",
    "\n",
    "        # title\n",
    "        i.find_all(\"div\", {'class': 'forumhead'})[0].text,"
   ]
  }
 ],
 "metadata": {
  "kernelspec": {
   "display_name": "Python 3",
   "language": "python",
   "name": "python3"
  },
  "language_info": {
   "codemirror_mode": {
    "name": "ipython",
    "version": 3
   },
   "file_extension": ".py",
   "mimetype": "text/x-python",
   "name": "python",
   "nbconvert_exporter": "python",
   "pygments_lexer": "ipython3",
   "version": "3.4.3"
  }
 },
 "nbformat": 4,
 "nbformat_minor": 0
}
