{
 "cells": [
  {
   "cell_type": "code",
   "execution_count": 14,
   "metadata": {
    "collapsed": false
   },
   "outputs": [],
   "source": [
    "import csv, psycopg2, jieba, operator\n",
    "jieba.load_userdict('autohome_dict.txt')\n",
    "import jieba.posseg as pseg\n",
    "\n",
    "jieba.enable_parallel()\n",
    "\n",
    "def pseg_adj_n(row):\n",
    "    pair_pseg = [item for item in pseg.lcut(row[3])]\n",
    "    adj = [[word, flag][0] for word, flag in pair_pseg if flag[0] == 'a']\n",
    "    n = [[word, flag][0] for word, flag in pair_pseg if flag[0] == 'n']\n",
    "    dataset = [adj, n]\n",
    "    return dataset\n",
    "\n",
    "autohome_csv_reader = csv.reader(open('autohome_head50.csv'))\n",
    "autohome_new, nounlist = [], []\n",
    "with open('autohome_with_adj_n.csv', 'w') as csvfile:\n",
    "    textwriter = csv.writer(csvfile, delimiter=',')\n",
    "    for row in autohome_csv_reader:\n",
    "        pseg_result = pseg_adj_n(row)\n",
    "        \n",
    "        textwriter.writerow([\n",
    "            row[0],\n",
    "            row[1],\n",
    "            row[2],\n",
    "            row[3],\n",
    "            pseg_result[0],\n",
    "            pseg_result[1]\n",
    "        ])\n",
    "        nounlist.append(pseg_result[1])\n",
    "\n",
    "nounlist_unpack = []\n",
    "for i in nounlist:\n",
    "    for x in i:\n",
    "        nounlist_unpack.append(x)\n",
    "\n",
    "word_count = {word:nounlist_unpack.count(word) for word in nounlist_unpack}\n",
    "word_count = sorted(word_count.items(),key=operator.itemgetter(1),reverse=True)\n",
    "\n",
    "with open('autohome_count.csv', 'w') as csvfile:\n",
    "    textwriter = csv.writer(csvfile, delimiter=',')\n",
    "    for word, count in word_count[:30]:\n",
    "        textwriter.writerow([word, str(count)])"
   ]
  },
  {
   "cell_type": "code",
   "execution_count": null,
   "metadata": {
    "collapsed": true
   },
   "outputs": [],
   "source": []
  }
 ],
 "metadata": {
  "kernelspec": {
   "display_name": "Python 3",
   "language": "python",
   "name": "python3"
  },
  "language_info": {
   "codemirror_mode": {
    "name": "ipython",
    "version": 3
   },
   "file_extension": ".py",
   "mimetype": "text/x-python",
   "name": "python",
   "nbconvert_exporter": "python",
   "pygments_lexer": "ipython3",
   "version": "3.5.0+"
  }
 },
 "nbformat": 4,
 "nbformat_minor": 0
}
