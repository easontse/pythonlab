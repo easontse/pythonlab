{
 "cells": [
  {
   "cell_type": "code",
   "execution_count": 56,
   "metadata": {
    "collapsed": false
   },
   "outputs": [
    {
     "name": "stdout",
     "output_type": "stream",
     "text": [
      "Received: http://www.mobile01.com/forumtopic.php?c=21&p=1\n",
      "\n",
      "http://www.mobile01.com/topicdetail.php?f=214&t=4637165\n",
      "http://www.mobile01.com/topicdetail.php?f=608&t=4639846\n",
      "http://www.mobile01.com/topicdetail.php?f=263&t=4640523\n",
      "http://www.mobile01.com/topicdetail.php?f=303&t=4637287\n",
      "http://www.mobile01.com/topicdetail.php?f=608&t=4633872\n",
      "http://www.mobile01.com/topicdetail.php?f=214&t=4596183\n",
      "http://www.mobile01.com/topicdetail.php?f=691&t=4556041\n",
      "http://www.mobile01.com/topicdetail.php?f=339&t=4505375\n",
      "http://www.mobile01.com/topicdetail.php?f=621&t=4641138\n",
      "http://www.mobile01.com/topicdetail.php?f=609&t=4641143\n",
      "http://www.mobile01.com/topicdetail.php?f=260&t=4635527\n",
      "http://www.mobile01.com/topicdetail.php?f=264&t=4640937\n",
      "http://www.mobile01.com/topicdetail.php?f=264&t=4639192\n",
      "http://www.mobile01.com/topicdetail.php?f=691&t=4641741\n",
      "http://www.mobile01.com/topicdetail.php?f=397&t=4641592\n",
      "http://www.mobile01.com/topicdetail.php?f=303&t=4639695\n",
      "http://www.mobile01.com/topicdetail.php?f=303&t=4641525\n",
      "http://www.mobile01.com/topicdetail.php?f=609&t=4638407\n",
      "http://www.mobile01.com/topicdetail.php?f=397&t=4641442\n",
      "http://www.mobile01.com/topicdetail.php?f=294&t=4640952\n",
      "http://www.mobile01.com/topicdetail.php?f=276&t=4640606\n",
      "http://www.mobile01.com/topicdetail.php?f=294&t=4641738\n",
      "http://www.mobile01.com/topicdetail.php?f=261&t=4638301\n",
      "http://www.mobile01.com/topicdetail.php?f=397&t=4640661\n",
      "http://www.mobile01.com/topicdetail.php?f=264&t=4639990\n",
      "http://www.mobile01.com/topicdetail.php?f=444&t=4639625\n",
      "http://www.mobile01.com/topicdetail.php?f=346&t=4565593\n",
      "http://www.mobile01.com/topicdetail.php?f=413&t=4636828\n",
      "http://www.mobile01.com/topicdetail.php?f=276&t=4641210\n",
      "http://www.mobile01.com/topicdetail.php?f=275&t=4626907\n",
      "http://www.mobile01.com/topicdetail.php?f=606&t=4641013\n",
      "http://www.mobile01.com/topicdetail.php?f=336&t=4631528\n",
      "http://www.mobile01.com/topicdetail.php?f=397&t=4637137\n",
      "http://www.mobile01.com/topicdetail.php?f=276&t=4641348\n",
      "http://www.mobile01.com/topicdetail.php?f=636&t=3965156\n",
      "http://www.mobile01.com/topicdetail.php?f=261&t=4640494\n",
      "http://www.mobile01.com/topicdetail.php?f=264&t=4640946\n"
     ]
    }
   ],
   "source": [
    "import requests, time, csv\n",
    "from bs4 import BeautifulSoup\n",
    "\n",
    "def get_indexSoup(pageNum):\n",
    "    time.sleep(2)\n",
    "    url = 'http://www.mobile01.com/forumtopic.php?c=21&p=' + str(pageNum)\n",
    "    res = requests.get(url)\n",
    "    print('Received: ' + res.url + '\\n')\n",
    "    return BeautifulSoup(res.text)\n",
    "\n",
    "def gen_linklist(pageNum):\n",
    "    linklist = []\n",
    "    for i in get_indexSoup(pageNum).select('.subject'):\n",
    "        if 'subject-text' in str(i):\n",
    "            linklist.append('http://www.mobile01.com/' + i.a['href'])\n",
    "    return linklist\n",
    "\n",
    "for i in gen_linklist(1):\n",
    "    print(i)"
   ]
  },
  {
   "cell_type": "code",
   "execution_count": 20,
   "metadata": {
    "collapsed": false
   },
   "outputs": [
    {
     "name": "stdout",
     "output_type": "stream",
     "text": [
      "[<div class=\"pagination\"><a href=\"#\" onclick=\"GotoPage();\">前往自訂頁數</a> <a href=\"#pb\">前往頁尾</a> <a href=\"javascript:ReturnList();\">返回列表</a></div>, <div class=\"pagination\"><span class=\"disable\">1</span> <a href=\"topicdetail.php?f=263&amp;t=3626372&amp;p=2\">2</a> <a href=\"topicdetail.php?f=263&amp;t=3626372&amp;p=3\">3</a> <a href=\"topicdetail.php?f=263&amp;t=3626372&amp;p=4\">4</a> <a href=\"topicdetail.php?f=263&amp;t=3626372&amp;p=5\">5</a> <span>…</span> <a href=\"topicdetail.php?f=263&amp;t=3626372&amp;p=2\">下一頁 ›<span>.</span></a> <a href=\"topicdetail.php?f=263&amp;t=3626372&amp;p=224\">224</a></div>, <div class=\"pagination\"> <span class=\"disable\">1</span> <a href=\"topicdetail.php?f=263&amp;t=3626372&amp;p=2\">2</a> <a href=\"topicdetail.php?f=263&amp;t=3626372&amp;p=3\">3</a> <a href=\"topicdetail.php?f=263&amp;t=3626372&amp;p=4\">4</a> <a href=\"topicdetail.php?f=263&amp;t=3626372&amp;p=5\">5</a> <span>…</span> <a href=\"topicdetail.php?f=263&amp;t=3626372&amp;p=2\">下一頁 ›<span>.</span></a> <a href=\"topicdetail.php?f=263&amp;t=3626372&amp;p=224\">224</a> </div>]\n"
     ]
    }
   ],
   "source": [
    "import requests, time, csv\n",
    "from bs4 import BeautifulSoup\n",
    "\n",
    "#t_url = 'http://www.mobile01.com/topicdetail.php?f=214&t=4637165'\n",
    "t_url = 'http://www.mobile01.com/topicdetail.php?f=263&t=3626372'\n",
    "t_res = requests.get(t_url)\n",
    "t_soup = BeautifulSoup(t_res.text)\n",
    "\n",
    "print(t_soup.select('.pagination'))"
   ]
  },
  {
   "cell_type": "code",
   "execution_count": 36,
   "metadata": {
    "collapsed": false
   },
   "outputs": [
    {
     "name": "stdout",
     "output_type": "stream",
     "text": [
      "topicdetail.php?f=263&t=3626372&p=224\n"
     ]
    }
   ],
   "source": [
    "print(list(t_soup.select('.pagination'))[-1].contents[-2]['href'])"
   ]
  }
 ],
 "metadata": {
  "kernelspec": {
   "display_name": "Python 3",
   "language": "python",
   "name": "python3"
  },
  "language_info": {
   "codemirror_mode": {
    "name": "ipython",
    "version": 3
   },
   "file_extension": ".py",
   "mimetype": "text/x-python",
   "name": "python",
   "nbconvert_exporter": "python",
   "pygments_lexer": "ipython3",
   "version": "3.4.3"
  }
 },
 "nbformat": 4,
 "nbformat_minor": 0
}
