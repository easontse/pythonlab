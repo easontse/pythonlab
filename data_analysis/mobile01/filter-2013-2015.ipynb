{
 "cells": [
  {
   "cell_type": "code",
   "execution_count": null,
   "metadata": {
    "collapsed": true
   },
   "outputs": [],
   "source": [
    "import csv\n",
    "\n",
    "with open('mobile01-luxgen-clone.csv', 'r') as rawdata:\n",
    "    reader = csv.reader(rawdata)\n",
    "    tgt_year = ['2015','2014','2013']\n",
    "    with open('mobile01-luxgen-2013-15.csv','w') as outfile:\n",
    "        writer = csv.writer(outfile)\n",
    "        for i in tqdm(reader):\n",
    "            if i[0][:4] in tgt_year:\n",
    "                writer.writerow(i)"
   ]
  }
 ],
 "metadata": {
  "kernelspec": {
   "display_name": "Python 3",
   "language": "python",
   "name": "python3"
  },
  "language_info": {
   "codemirror_mode": {
    "name": "ipython",
    "version": 3
   },
   "file_extension": ".py",
   "mimetype": "text/x-python",
   "name": "python",
   "nbconvert_exporter": "python",
   "pygments_lexer": "ipython3",
   "version": "3.5.0+"
  }
 },
 "nbformat": 4,
 "nbformat_minor": 0
}
