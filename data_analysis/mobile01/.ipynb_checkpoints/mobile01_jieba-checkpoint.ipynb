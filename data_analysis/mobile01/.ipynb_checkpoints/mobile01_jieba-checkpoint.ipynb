{
 "cells": [
  {
   "cell_type": "code",
   "execution_count": 1,
   "metadata": {
    "collapsed": false
   },
   "outputs": [
    {
     "name": "stderr",
     "output_type": "stream",
     "text": [
      "Building prefix dict from the default dictionary ...\n",
      "DEBUG:jieba:Building prefix dict from the default dictionary ...\n",
      "Loading model from cache /tmp/jieba.cache\n",
      "DEBUG:jieba:Loading model from cache /tmp/jieba.cache\n",
      "Loading model cost 0.695 seconds.\n",
      "DEBUG:jieba:Loading model cost 0.695 seconds.\n",
      "Prefix dict has been built succesfully.\n",
      "DEBUG:jieba:Prefix dict has been built succesfully.\n",
      "                        "
     ]
    },
    {
     "name": "stdout",
     "output_type": "stream",
     "text": [
      "0.0007112026214599609\n"
     ]
    },
    {
     "name": "stderr",
     "output_type": "stream",
     "text": [
      "\r"
     ]
    }
   ],
   "source": [
    "\n",
    "# coding: utf-8\n",
    "\n",
    "# In[1]:\n",
    "\n",
    "import csv, psycopg2, jieba, operator, time\n",
    "jieba.load_userdict('dict.txt.big')\n",
    "import jieba.posseg as pseg\n",
    "import pandas as pd\n",
    "from tqdm import tqdm\n",
    "\n",
    "\n",
    "jieba.enable_parallel()\n",
    "\n",
    "def pseg_adj_n(row):\n",
    "    pair_pseg = [item for item in pseg.lcut(row[3])]\n",
    "\n",
    "    adj = [[word, flag][0] for word, flag in pair_pseg if flag[0] == 'a']\n",
    "    n = [[word, flag][0] for word, flag in pair_pseg if flag[0] == 'n']\n",
    "\n",
    "    dataset = [adj, n]\n",
    "    return dataset\n",
    "\n",
    "csv_reader = csv.reader(open('mobile01-luxgen-head1000.csv'))\n",
    "nounlist = []\n",
    "with open('mobile01-luxgen_with_adj_n_head1000.csv', 'w') as csvfile:\n",
    "    textwriter = csv.writer(csvfile, delimiter=',')\n",
    "    for row in tqdm(csv_reader):\n",
    "        pseg_result = pseg_adj_n(row)\n",
    "        \n",
    "        textwriter.writerow([\n",
    "            row[0],\n",
    "            row[1],\n",
    "            row[2],\n",
    "            row[3],\n",
    "            ' '.join(pseg_result[0]),\n",
    "            ' '.join(pseg_result[1]),\n",
    "            row[4]\n",
    "        ])\n",
    "        nounlist.append(pseg_result[1])\n",
    "\n",
    "nounlist_unpack = []\n",
    "for i in nounlist:\n",
    "    for x in i:\n",
    "        nounlist_unpack.append(x)\n",
    "\n",
    "noun_series = pd.Series(nounlist_unpack)\n",
    "\n",
    "print(t2-t1)\n",
    "\n",
    "with open('mobile01-luxgen_count_head1000.csv', 'w') as csvfile:\n",
    "    noun_series.value_counts().to_csv(csvfile)"
   ]
  }
 ],
 "metadata": {
  "kernelspec": {
   "display_name": "Python 3",
   "language": "python",
   "name": "python3"
  },
  "language_info": {
   "codemirror_mode": {
    "name": "ipython",
    "version": 3
   },
   "file_extension": ".py",
   "mimetype": "text/x-python",
   "name": "python",
   "nbconvert_exporter": "python",
   "pygments_lexer": "ipython3",
   "version": "3.5.0+"
  }
 },
 "nbformat": 4,
 "nbformat_minor": 0
}
