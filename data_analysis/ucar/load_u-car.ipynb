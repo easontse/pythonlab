{
 "cells": [
  {
   "cell_type": "code",
   "execution_count": null,
   "metadata": {
    "collapsed": false
   },
   "outputs": [],
   "source": [
    "import csv, psycopg2\n",
    "from datetime import datetime\n",
    "\n",
    "def load_ucar():\n",
    "    conn = psycopg2.connect(host='192.168.20.30', user='dbadm', database='crawler', password='P@ssw0rd')\n",
    "    cur = conn.cursor()\n",
    "\n",
    "    cur.execute('''drop table if exists ucar''')\n",
    "\n",
    "    cur.execute('''\n",
    "            create table ucar (\n",
    "                post_ts       timestamp,\n",
    "                author        varchar(32),\n",
    "                title         varchar(300),\n",
    "                content       varchar(30000),\n",
    "                url           varchar(120)\n",
    "            )'''\n",
    "               )\n",
    "\n",
    "    cur.execute('''create index on ucar (post_ts)''')\n",
    "    cur.execute('''create index on ucar (author)''')\n",
    "    cur.execute('''create index on ucar (title)''')\n",
    "    cur.execute('''create index on ucar (url)''')\n",
    "    \n",
    "    ucar_csv_reader = csv.reader(open('u-car.csv'))\n",
    "    \n",
    "    for row in ucar_csv_reader:\n",
    "        cur.execute('''insert into ucar values (\n",
    "            %s,\n",
    "            %s, \n",
    "            %s, \n",
    "            %s, \n",
    "            %s\n",
    "        )''', (\n",
    "            datetime.strptime(row[0], '%Y/%m/%d %H:%m:%S'),\n",
    "            # author\n",
    "            row[1],\n",
    "            # title\n",
    "            row[2],\n",
    "            # content\n",
    "            row[3],\n",
    "            # url\n",
    "            row[4]\n",
    "        ))\n",
    "\n",
    "        conn.commit()\n",
    "    cur.close()\n",
    "    \n",
    "    conn.close()\n",
    "    \n",
    "if __name__ == '__main__':\n",
    "    load_ucar()"
   ]
  },
  {
   "cell_type": "code",
   "execution_count": null,
   "metadata": {
    "collapsed": false
   },
   "outputs": [],
   "source": []
  }
 ],
 "metadata": {
  "kernelspec": {
   "display_name": "Python 3",
   "language": "python",
   "name": "python3"
  },
  "language_info": {
   "codemirror_mode": {
    "name": "ipython",
    "version": 3
   },
   "file_extension": ".py",
   "mimetype": "text/x-python",
   "name": "python",
   "nbconvert_exporter": "python",
   "pygments_lexer": "ipython3",
   "version": "3.5.0+"
  }
 },
 "nbformat": 4,
 "nbformat_minor": 0
}
