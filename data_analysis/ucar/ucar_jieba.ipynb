{
 "cells": [
  {
   "cell_type": "code",
   "execution_count": null,
   "metadata": {
    "collapsed": false
   },
   "outputs": [],
   "source": [
    "\n",
    "# coding: utf-8\n",
    "\n",
    "# In[1]:\n",
    "\n",
    "import csv, psycopg2, jieba, operator, time\n",
    "jieba.load_userdict('ucar_dict.txt')\n",
    "import jieba.posseg as pseg\n",
    "import pandas as pd\n",
    "\n",
    "jieba.enable_parallel()\n",
    "\n",
    "def pseg_adj_n(row):\n",
    "    pair_pseg = [item for item in pseg.lcut(row[3])]\n",
    "\n",
    "    adj = [[word, flag][0] for word, flag in pair_pseg if flag[0] == 'a']\n",
    "    n = [[word, flag][0] for word, flag in pair_pseg if flag[0] == 'n']\n",
    "\n",
    "    dataset = [adj, n]\n",
    "    return dataset\n",
    "\n",
    "ucar_csv_reader = csv.reader(open('ucar_head50.csv'))\n",
    "nounlist = []\n",
    "with open('ucar_with_adj_n_head50.csv', 'w') as csvfile:\n",
    "    textwriter = csv.writer(csvfile, delimiter=',')\n",
    "    \n",
    "    for row in ucar_csv_reader:\n",
    "        pseg_result = pseg_adj_n(row)\n",
    "        \n",
    "        textwriter.writerow([\n",
    "            row[0],\n",
    "            row[1],\n",
    "            row[2],\n",
    "            row[3],\n",
    "            ' '.join(pseg_result[0]),\n",
    "            ' '.join(pseg_result[1]),\n",
    "            row[4]\n",
    "        ])\n",
    "        nounlist.append(pseg_result[1])\n",
    "\n",
    "nounlist_unpack = []\n",
    "for i in nounlist:\n",
    "    for x in i:\n",
    "        nounlist_unpack.append(x)\n",
    "\n",
    "series_nounlist = pd.Series(nounlist_unpack)\n",
    "\n",
    "with open('ucar_count_head50.csv','w') as outfile:\n",
    "    series_nounlist.value_counts().to_csv(outfile)\n"
   ]
  },
  {
   "cell_type": "code",
   "execution_count": null,
   "metadata": {
    "collapsed": false
   },
   "outputs": [],
   "source": [
    "import opencc\n",
    "\n",
    "def tw2s(text):\n",
    "    return opencc.convert(text)\n",
    "\n",
    "a = '台灣本田請儘速引進Civic Type R,別傻了，三菱只靠商用車就是個問題。要是和泰也跟你中華玩商用車，那三菱早就完了。也對啦，三菱根本田一樣無藥可救。你跳槽到豐田果然不是沒理由.....'\n",
    "\n",
    "print(tw2s(a))"
   ]
  }
 ],
 "metadata": {
  "kernelspec": {
   "display_name": "Python 3",
   "language": "python",
   "name": "python3"
  },
  "language_info": {
   "codemirror_mode": {
    "name": "ipython",
    "version": 3
   },
   "file_extension": ".py",
   "mimetype": "text/x-python",
   "name": "python",
   "nbconvert_exporter": "python",
   "pygments_lexer": "ipython3",
   "version": "3.5.0+"
  }
 },
 "nbformat": 4,
 "nbformat_minor": 0
}
